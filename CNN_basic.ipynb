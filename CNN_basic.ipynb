{
 "cells": [
  {
   "cell_type": "code",
   "execution_count": null,
   "metadata": {},
   "outputs": [
    {
     "name": "stdout",
     "output_type": "stream",
     "text": [
      "Extracting MNIST_data/train-images-idx3-ubyte.gz\n",
      "Extracting MNIST_data/train-labels-idx1-ubyte.gz\n",
      "Extracting MNIST_data/t10k-images-idx3-ubyte.gz\n",
      "Extracting MNIST_data/t10k-labels-idx1-ubyte.gz\n"
     ]
    }
   ],
   "source": [
    "import tensorflow as tf\n",
    "import numpy as np\n",
    "from tensorflow.examples.tutorials.mnist import input_data\n",
    "tf.set_random_seed(777)  # reproducibility\n",
    "\n",
    "mnist = input_data.read_data_sets(\"MNIST_data/\", one_hot=True)"
   ]
  },
  {
   "cell_type": "code",
   "execution_count": null,
   "metadata": {
    "scrolled": false
   },
   "outputs": [
    {
     "name": "stdout",
     "output_type": "stream",
     "text": [
      "Start learning!\n",
      "Epoch :  1 cost 0.780198100914\n",
      "Epoch :  2 cost 0.352388994612\n",
      "Epoch :  3 cost 0.340854891762\n"
     ]
    }
   ],
   "source": [
    "X = tf.placeholder(tf.float32,shape=(None,784))\n",
    "X_img = tf.reshape(X,(-1,28,28,1))\n",
    "Y = tf.placeholder(tf.float32,shape=(None,10))\n",
    "\n",
    "#hyperparameter\n",
    "learning_rate = 0.01\n",
    "training_epoches = 15\n",
    "batch_size = 100\n",
    "\n",
    "\n",
    "# layer1\n",
    "W1 = tf.Variable(tf.random_normal([3,3,1,32],stddev=0.01))\n",
    "L1 = tf.nn.conv2d(X_img,W1,strides=[1,1,1,1],padding='SAME')\n",
    "L1 = tf.nn.relu(L1)\n",
    "L1 = tf.nn.max_pool(L1,ksize=[1,2,2,1],strides=[1,2,2,1],padding='SAME') # 14*14*32\n",
    "L1 = tf.nn.dropout(L1,keep_prob=0.7)\n",
    "\n",
    "# layer2\n",
    "W2 = tf.Variable(tf.random_normal([3,3,32,64],stddev=0.01))\n",
    "L2 = tf.nn.conv2d(L1,W2,strides=[1,1,1,1],padding='SAME')\n",
    "L2 = tf.nn.relu(L2)\n",
    "L2 = tf.nn.max_pool(L2,ksize=[1,2,2,1],strides=[1,2,2,1],padding='SAME') # 7*7*64\n",
    "L2 = tf.nn.dropout(L2,keep_prob=0.7)\n",
    "\n",
    "# layer3\n",
    "W3 = tf.Variable(tf.random_normal([3,3,64,128],stddev=0.01))\n",
    "L3 = tf.nn.conv2d(L2,W3,strides=[1,1,1,1],padding='SAME')\n",
    "L3 = tf.nn.relu(L3)\n",
    "L3 = tf.nn.max_pool(L3,ksize=[1,2,2,1],strides=[1,2,2,1],padding='SAME') # 4*4*128\n",
    "L3 = tf.nn.dropout(L3,keep_prob=0.7)\n",
    "\n",
    "# layer4\n",
    "L3 = tf.reshape(L3,shape=[-1,4*4*128])\n",
    "W4 = tf.get_variable('W4',shape=[4*4*128,625],initializer=tf.contrib.layers.xavier_initializer())\n",
    "b4 = tf.Variable(tf.random_normal([625]))\n",
    "L4 = tf.matmul(L3,W4)+b4\n",
    "L4 = tf.nn.dropout(L4,keep_prob=0.5)\n",
    "# layer5\n",
    "W5 = tf.get_variable('W5',shape=[625,10],initializer=tf.contrib.layers.xavier_initializer())\n",
    "b5 = tf.Variable(tf.random_normal([10]))\n",
    "logits = tf.matmul(L4,W5) +b5\n",
    "\n",
    "cost = tf.reduce_mean(tf.nn.softmax_cross_entropy_with_logits(logits=logits,labels=Y))\n",
    "optimizer = tf.train.AdamOptimizer(learning_rate=learning_rate).minimize(cost)\n",
    "\n",
    "prediction = tf.argmax(logits,1)\n",
    "is_correct= tf.equal(prediction,tf.argmax(Y,1))\n",
    "accuracy = tf.reduce_mean(tf.cast(is_correct,dtype=tf.float32))\n",
    "with tf.Session() as sess:\n",
    "    sess.run(tf.global_variables_initializer())\n",
    "    total_batch = int(mnist.train.num_examples / batch_size)\n",
    "    print('Start learning!')\n",
    "    for epoch in range(training_epoches):\n",
    "        avg_cost = 0.0\n",
    "        for i in range(total_batch):\n",
    "            batch_xs,batch_ys = mnist.train.next_batch(batch_size)\n",
    "            cost_val, _ = sess.run([cost,optimizer],feed_dict={\n",
    "                X : batch_xs,\n",
    "                Y : batch_ys\n",
    "            })\n",
    "            avg_cost += cost_val / total_batch\n",
    "        print('Epoch : ',epoch+1,\"cost\",avg_cost)\n",
    "    acc = sess.run(accuracy,feed_dict={\n",
    "        X : mnist.test.images,\n",
    "        Y : mnist.test.labels\n",
    "    })\n",
    "    print('Accuracy : ',acc)"
   ]
  },
  {
   "cell_type": "code",
   "execution_count": null,
   "metadata": {
    "collapsed": true
   },
   "outputs": [],
   "source": []
  }
 ],
 "metadata": {
  "kernelspec": {
   "display_name": "Python 3",
   "language": "python",
   "name": "python3"
  },
  "language_info": {
   "codemirror_mode": {
    "name": "ipython",
    "version": 3
   },
   "file_extension": ".py",
   "mimetype": "text/x-python",
   "name": "python",
   "nbconvert_exporter": "python",
   "pygments_lexer": "ipython3",
   "version": "3.5.3"
  }
 },
 "nbformat": 4,
 "nbformat_minor": 2
}
